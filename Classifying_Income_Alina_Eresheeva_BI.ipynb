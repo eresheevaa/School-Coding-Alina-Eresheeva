{
  "nbformat": 4,
  "nbformat_minor": 0,
  "metadata": {
    "colab": {
      "name": "Classifying Income Alina Eresheeva BI",
      "provenance": [],
      "authorship_tag": "ABX9TyMGCRHg5aWYEIOToJpOx+SU",
      "include_colab_link": true
    },
    "kernelspec": {
      "name": "python3",
      "display_name": "Python 3"
    },
    "language_info": {
      "name": "python"
    }
  },
  "cells": [
    {
      "cell_type": "markdown",
      "metadata": {
        "id": "view-in-github",
        "colab_type": "text"
      },
      "source": [
        "<a href=\"https://colab.research.google.com/github/eresheevaa/School-Coding-Alina-Eresheeva/blob/main/Classifying_Income_Alina_Eresheeva_BI.ipynb\" target=\"_parent\"><img src=\"https://colab.research.google.com/assets/colab-badge.svg\" alt=\"Open In Colab\"/></a>"
      ]
    },
    {
      "cell_type": "code",
      "metadata": {
        "id": "wdD8y3qzLcK7"
      },
      "source": [
        "import pandas as pd\n",
        "import numpy as np\n",
        "from sklearn.model_selection import train_test_split\n",
        "from sklearn.metrics import accuracy_score\n",
        "from sklearn.neighbors import KNeighborsClassifier\n",
        "from sklearn.metrics import confusion_matrix\n"
      ],
      "execution_count": 2,
      "outputs": []
    },
    {
      "cell_type": "code",
      "metadata": {
        "id": "gWwxjA3wMkD4"
      },
      "source": [
        "names = ['Married', 'Race', 'Gender', 'Age', 'Country', 'Income']"
      ],
      "execution_count": 3,
      "outputs": []
    },
    {
      "cell_type": "code",
      "metadata": {
        "id": "Rr4Of7eZM1Ef"
      },
      "source": [
        "df = pd.read_csv('/content/Census (1).csv', header = 1, names = names)\n",
        "X = np.array(df.iloc[:,0:4])\n",
        "Y = np.array(df['Income'])\n",
        "\n",
        "#Split data into train and test\n",
        "X_train, X_test, Y_train, Y_test = train_test_split(X,Y, test_size = 0.30)\n"
      ],
      "execution_count": 6,
      "outputs": []
    },
    {
      "cell_type": "code",
      "metadata": {
        "id": "fYDIiWpXNQm6"
      },
      "source": [
        "knn = KNeighborsClassifier(n_neighbors=3)\n",
        "knn.fit(X_train, Y_train)\n",
        "prediction = knn.predict(X_test)"
      ],
      "execution_count": 7,
      "outputs": []
    },
    {
      "cell_type": "code",
      "metadata": {
        "colab": {
          "base_uri": "https://localhost:8080/"
        },
        "id": "PFc-AgXCOJQW",
        "outputId": "c86fb362-60e9-4667-b57a-5adf0805de64"
      },
      "source": [
        "print('\\nModel accuracy score: ',accuracy_score(Y_test,prediction))\n",
        "print(confusion_matrix(Y_test, prediction))"
      ],
      "execution_count": 8,
      "outputs": [
        {
          "output_type": "stream",
          "name": "stdout",
          "text": [
            "\n",
            "Model accuracy score:  0.68\n",
            "[[82 26]\n",
            " [22 20]]\n"
          ]
        }
      ]
    },
    {
      "cell_type": "code",
      "metadata": {
        "id": "By-2uxUgOeih"
      },
      "source": [
        ""
      ],
      "execution_count": null,
      "outputs": []
    }
  ]
}