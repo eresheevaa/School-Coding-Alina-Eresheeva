{
  "nbformat": 4,
  "nbformat_minor": 0,
  "metadata": {
    "colab": {
      "name": "Iris dataset Python Classification Methods Alina Eresheeva.ipynb",
      "provenance": [],
      "collapsed_sections": [],
      "authorship_tag": "ABX9TyPsLga9OhjKZK9qL8MkFIzD",
      "include_colab_link": true
    },
    "kernelspec": {
      "name": "python3",
      "display_name": "Python 3"
    },
    "language_info": {
      "name": "python"
    }
  },
  "cells": [
    {
      "cell_type": "markdown",
      "metadata": {
        "id": "view-in-github",
        "colab_type": "text"
      },
      "source": [
        "<a href=\"https://colab.research.google.com/github/eresheevaa/School-Coding-Alina-Eresheeva/blob/main/Iris_dataset_Python_Classification_Methods_Alina_Eresheeva.ipynb\" target=\"_parent\"><img src=\"https://colab.research.google.com/assets/colab-badge.svg\" alt=\"Open In Colab\"/></a>"
      ]
    },
    {
      "cell_type": "code",
      "metadata": {
        "id": "FDg8ThANX0VQ"
      },
      "source": [
        "### KNN Classification Method\n",
        "#The K-nearest-neighbors (KNN) classification algorithm is based on the premise “If it walks like duck and quacks like a duck, it’s a duck.” \n",
        "#To use KNN, you provide a value for the number K that specifies the number of neighboring training set values to which a value must be similar \n",
        "#in order to be considered part of a group. \n",
        "\n",
        "\n",
        "import pandas as pd\n",
        "import numpy as np\n",
        "from sklearn.model_selection import train_test_split\n",
        "from sklearn.metrics import accuracy_score\n",
        "from sklearn.neighbors import KNeighborsClassifier"
      ],
      "execution_count": null,
      "outputs": []
    },
    {
      "cell_type": "code",
      "metadata": {
        "id": "l4YMamklbg0E"
      },
      "source": [
        "names = ['sepal_length', 'sepal_width', 'petal_length', 'petal_width', 'class']\n",
        "\n",
        "df = pd.read_csv('Iris.data.csv', header = None, names=names)\n",
        "\n",
        "X = np.array(df.iloc[:, 0:4])\n",
        "y = np.array(df['class'])\n",
        "\n",
        "#split the data into train and test sets\n",
        "X_train, X_test, y_train, y_test = train_test_split(X, y, test_size=0.30) \n",
        "\n"
      ],
      "execution_count": null,
      "outputs": []
    },
    {
      "cell_type": "code",
      "metadata": {
        "id": "NF1BH8RNbyPb"
      },
      "source": [
        "knn = KNeighborsClassifier(n_neighbors=3)\n",
        "knn.fit(X_train, y_train)\n",
        "pred = knn.predict(X_test)"
      ],
      "execution_count": null,
      "outputs": []
    },
    {
      "cell_type": "code",
      "metadata": {
        "colab": {
          "base_uri": "https://localhost:8080/"
        },
        "id": "2pdmB-Andv9u",
        "outputId": "a3471e46-b1aa-4078-c7f5-74ab75aa379d"
      },
      "source": [
        "print('\\nModel accuracy score: ', accuracy_score(y_test, pred))\n",
        "print(\"\\nFrom the test data\")\n",
        "print('Index\\tPredicted\\t\\tActual')\n",
        "for i in range(len(pred)):\n",
        "  if pred[i] != y_test[i]:\n",
        "    print(i, '\\t', pred[i], '\\t', y_test[i], ' ****')"
      ],
      "execution_count": null,
      "outputs": [
        {
          "output_type": "stream",
          "name": "stdout",
          "text": [
            "\n",
            "Model accuracy score:  0.9333333333333333\n",
            "\n",
            "From the test data\n",
            "Index\tPredicted\t\tActual\n",
            "23 \t Iris-virginica \t Iris-versicolor  ****\n",
            "25 \t Iris-versicolor \t Iris-virginica  ****\n",
            "26 \t Iris-virginica \t Iris-versicolor  ****\n"
          ]
        }
      ]
    },
    {
      "cell_type": "code",
      "metadata": {
        "id": "GqOUy77HeAL_"
      },
      "source": [
        "DataToPredict = np.array([[5.2, 3.5, 1.4, 0.2], [5.7, 2.9, 3.6, 1.3], [5.8, 3.0, 5.1, 1.8]])\n",
        "pred = knn.predict(DataToPredict)"
      ],
      "execution_count": null,
      "outputs": []
    },
    {
      "cell_type": "code",
      "metadata": {
        "colab": {
          "base_uri": "https://localhost:8080/"
        },
        "id": "KC79JzRIfYrm",
        "outputId": "71645b7d-423a-4912-89eb-e0cbbff159ca"
      },
      "source": [
        "print(\"\\nPredicted results\")\n",
        "for i in range(len(pred)):\n",
        "  print( '\\t', DataToPredict[i], '\\t', pred[i])"
      ],
      "execution_count": null,
      "outputs": [
        {
          "output_type": "stream",
          "name": "stdout",
          "text": [
            "\n",
            "Predicted results\n",
            "\t [5.2 3.5 1.4 0.2] \t Iris-setosa\n",
            "\t [5.7 2.9 3.6 1.3] \t Iris-versicolor\n",
            "\t [5.8 3.  5.1 1.8] \t Iris-virginica\n"
          ]
        }
      ]
    },
    {
      "cell_type": "code",
      "metadata": {
        "id": "G3AdWLasfoPp"
      },
      "source": [
        "### Determining the K value with Python\n",
        "import pandas as pd\n",
        "import numpy as np\n",
        "import matplotlib.pyplot as plt\n",
        "from sklearn.model_selection import train_test_split\n",
        "from sklearn.metrics import accuracy_score\n",
        "from sklearn.neighbors import KNeighborsClassifier\n",
        "\n",
        "\n",
        "names = ['sepal_length', 'sepal_width', 'petal_length', 'petal_width', 'class']\n",
        "\n",
        "df = pd.read_csv('Iris.data.csv', header = None, names=names)\n",
        "\n",
        "X = np.array(df.iloc[:, 0:4])\n",
        "y = np.array(df['class'])\n",
        "\n",
        "#split the data into train and test sets\n",
        "X_train, X_test, y_train, y_test = train_test_split(X, y, test_size=0.25) "
      ],
      "execution_count": null,
      "outputs": []
    },
    {
      "cell_type": "code",
      "metadata": {
        "id": "rYeOV0fmgxWP"
      },
      "source": [
        "scores = []\n",
        "K_Range = range(1, 10)\n",
        "\n",
        "for K in K_Range:\n",
        "  knn = KNeighborsClassifier(n_neighbors=K)\n",
        "  knn.fit(X_train, y_train)\n",
        "  y_pred = knn.predict(X_test)\n",
        "  scores.append(accuracy_score(y_test, y_pred))"
      ],
      "execution_count": null,
      "outputs": []
    },
    {
      "cell_type": "code",
      "metadata": {
        "colab": {
          "base_uri": "https://localhost:8080/",
          "height": 279
        },
        "id": "hHXjr9hhhZoe",
        "outputId": "50bf5e0d-0c1e-435b-f218-898af3000d9a"
      },
      "source": [
        "plt.plot(K_Range, scores)\n",
        "plt.xlabel('Value of K for KNN')\n",
        "plt.ylabel('Testing accuracy')\n",
        "plt.show()"
      ],
      "execution_count": null,
      "outputs": [
        {
          "output_type": "display_data",
          "data": {
            "image/png": "[encoded data removed]",
            "text/plain": [
              "<Figure size 432x288 with 1 Axes>"
            ]
          },
          "metadata": {
            "needs_background": "light"
          }
        }
      ]
    },
    {
      "cell_type": "code",
      "metadata": {
        "id": "kOzrT5TyhxNE"
      },
      "source": [
        "### Confusin Matrix\n",
        "#The accuracy score is a percentage of the number of correct predictions divided by the total number of predictions.\n",
        "#To help you understand which predictions the model got correct and which predictions were wrong, you can display \n",
        "# the model’s confusion matrix, which summarizes the prediction’s results.\n",
        "\n",
        "import pandas as pd\n",
        "import numpy as np\n",
        "from sklearn.model_selection import train_test_split\n",
        "from sklearn.metrics import accuracy_score\n",
        "from sklearn.neighbors import KNeighborsClassifier\n",
        "from sklearn.metrics import confusion_matrix\n",
        "\n",
        "names = ['sepal_length', 'sepal_width', 'petal_length', 'petal_width', 'class']\n",
        "\n",
        "df = pd.read_csv('Iris.data.csv', header = None, names=names)\n",
        "\n",
        "X = np.array(df.iloc[:, 0:4])\n",
        "y = np.array(df['class'])\n",
        "\n",
        "#split the data into train and test sets\n",
        "X_train, X_test, y_train, y_test = train_test_split(X, y, test_size=0.30) "
      ],
      "execution_count": null,
      "outputs": []
    },
    {
      "cell_type": "code",
      "metadata": {
        "id": "blo7OSQJig5p"
      },
      "source": [
        "knn = KNeighborsClassifier(n_neighbors=3)\n",
        "knn.fit(X_train, y_train)\n",
        "pred = knn.predict(X_test)"
      ],
      "execution_count": null,
      "outputs": []
    },
    {
      "cell_type": "code",
      "metadata": {
        "colab": {
          "base_uri": "https://localhost:8080/"
        },
        "id": "KrQn4XtYiq-A",
        "outputId": "d65dea9a-0a92-48a1-bc96-7be6a798352b"
      },
      "source": [
        "print('\\nModel accuracy score: ', accuracy_score(y_test, pred))\n",
        "print(\"\\nFrom the test data\")\n",
        "print('Index\\tPredicted\\t\\tActual')\n",
        "for i in range(len(pred)):\n",
        "  if pred[i] != y_test[i]:\n",
        "    print(i, '\\t', pred[i], '\\t', y_test[i], ' ****')\n",
        "\n",
        "\n",
        "print('\\nConfusion Matrix\\n', confusion_matrix(y_test, pred))"
      ],
      "execution_count": null,
      "outputs": [
        {
          "output_type": "stream",
          "name": "stdout",
          "text": [
            "\n",
            "Model accuracy score:  0.9777777777777777\n",
            "\n",
            "From the test data\n",
            "Index\tPredicted\t\tActual\n",
            "38 \t Iris-virginica \t Iris-versicolor  ****\n",
            "\n",
            "Confusion Matrix\n",
            " [[20  0  0]\n",
            " [ 0  9  1]\n",
            " [ 0  0 15]]\n"
          ]
        }
      ]
    },
    {
      "cell_type": "code",
      "metadata": {
        "id": "LsLuiXVLnwiP"
      },
      "source": [
        ""
      ],
      "execution_count": null,
      "outputs": []
    },
    {
      "cell_type": "code",
      "metadata": {
        "id": "oiwuExNQnxIG"
      },
      "source": [
        ""
      ],
      "execution_count": null,
      "outputs": []
    },
    {
      "cell_type": "code",
      "metadata": {
        "id": "1VDi5Fg-jIJv"
      },
      "source": [
        "### USING NAIVE BAYES WITH PYTHON FOR CLASSIFYING THE IRIS DATASET\n",
        "# The Naïve Bayes classification algorithm is so named because it is based on Bayes Theorem to calculate the probability \n",
        "#that an item is a member of a category based on knowledge of related conditions. \n",
        "#It is called “naïve” in that it treats the different data-set attributes as independent and calculates a probability for each.\n",
        "\n",
        "import pandas as pd\n",
        "import numpy as np\n",
        "from sklearn.model_selection import train_test_split\n",
        "from sklearn.metrics import accuracy_score\n",
        "from sklearn.naive_bayes import GaussianNB\n",
        "\n",
        "\n",
        "names = ['sepal_length', 'sepal_width', 'petal_length', 'petal_width', 'class']\n",
        "\n",
        "df = pd.read_csv('Iris.data.csv', header = None, names=names)\n",
        "\n",
        "X = np.array(df.iloc[:, 0:4])\n",
        "y = np.array(df['class'])\n",
        "\n",
        "#split the data into train and test sets\n",
        "X_train, X_test, y_train, y_test = train_test_split(X, y, test_size=0.30) "
      ],
      "execution_count": null,
      "outputs": []
    },
    {
      "cell_type": "code",
      "metadata": {
        "colab": {
          "base_uri": "https://localhost:8080/"
        },
        "id": "-YTKJ-ZJngVC",
        "outputId": "761f634f-e91a-4ef7-a8ae-e58e539030fc"
      },
      "source": [
        "model = GaussianNB().fit(X_train, y_train)\n",
        "pred = model.predict(X_test)\n",
        "\n",
        "print('\\nModel accuracy score: ', accuracy_score(y_test, pred))\n",
        "print(\"\\nFrom the test data\")\n",
        "print('Index\\tPredicted\\t\\tActual')\n",
        "for i in range(len(pred)):\n",
        "  if pred[i] != y_test[i]:\n",
        "    print(i, '\\t', pred[i], '\\t', y_test[i], ' ****')\n",
        "\n",
        "\n",
        "DataToPredict = np.array([[5.2, 3.5, 1.4, 0.2], [5.7, 2.9, 3.6, 1.3], [5.8, 3.0, 5.1, 1.8]])\n",
        "pred = knn.predict(DataToPredict)\n",
        "\n",
        "print(\"\\nPredictes results\")\n",
        "for i in range(len(pred)):\n",
        "  print('\\t', DataToPredict[i], '\\t', pred[i])"
      ],
      "execution_count": null,
      "outputs": [
        {
          "output_type": "stream",
          "name": "stdout",
          "text": [
            "\n",
            "Model accuracy score:  0.9555555555555556\n",
            "\n",
            "From the test data\n",
            "Index\tPredicted\t\tActual\n",
            "11 \t Iris-versicolor \t Iris-virginica  ****\n",
            "36 \t Iris-virginica \t Iris-versicolor  ****\n",
            "\n",
            "Predictes results\n",
            "\t [5.2 3.5 1.4 0.2] \t Iris-setosa\n",
            "\t [5.7 2.9 3.6 1.3] \t Iris-versicolor\n",
            "\t [5.8 3.  5.1 1.8] \t Iris-virginica\n"
          ]
        }
      ]
    },
    {
      "cell_type": "code",
      "metadata": {
        "id": "sfGstauuoEAh"
      },
      "source": [
        ""
      ],
      "execution_count": null,
      "outputs": []
    },
    {
      "cell_type": "code",
      "metadata": {
        "id": "Z2kAFPFFpj9S"
      },
      "source": [
        ""
      ],
      "execution_count": null,
      "outputs": []
    },
    {
      "cell_type": "code",
      "metadata": {
        "id": "gcbr99xzpkLf"
      },
      "source": [
        "### LOGISTIC REGRESSION CLASSIFICATION ON IRIS DATASET\n",
        "#The logistic regression classifier is best suited for binary-dependent variables—classifications for which there are only two classes, \n",
        "#such as gender, a tumor being malignant or benign, and so on. You can use logistic regression for multiclass problems,\n",
        "#but your results may not prove as accurate as other methods. \n",
        "import pandas as pd\n",
        "import numpy as np\n",
        "from sklearn.model_selection import train_test_split\n",
        "from sklearn.metrics import accuracy_score\n",
        "from sklearn.naive_bayes import GaussianNB\n",
        "from sklearn.linear_model import LogisticRegression\n",
        "\n",
        "\n",
        "names = ['sepal_length', 'sepal_width', 'petal_length', 'petal_width', 'class']\n",
        "\n",
        "df = pd.read_csv('Iris.data.csv', header = None, names=names)\n",
        "\n",
        "X = np.array(df.iloc[:, 0:4])\n",
        "y = np.array(df['class'])\n",
        "\n",
        "#split the data into train and test sets\n",
        "X_train, X_test, y_train, y_test = train_test_split(X, y, test_size=0.30) \n",
        "\n"
      ],
      "execution_count": null,
      "outputs": []
    },
    {
      "cell_type": "code",
      "metadata": {
        "id": "U_Weqsa0qOKm"
      },
      "source": [
        "model = LogisticRegression(solver='lbfgs', multi_class='multinomial', max_iter=200).fit(X_train,y_train)\n",
        "pred = model.predict(X_test)"
      ],
      "execution_count": null,
      "outputs": []
    },
    {
      "cell_type": "code",
      "metadata": {
        "colab": {
          "base_uri": "https://localhost:8080/"
        },
        "id": "bmCvniQRqdH_",
        "outputId": "98e871e6-bdf8-40d9-904e-66138dab92f8"
      },
      "source": [
        "print('\\nModel accuracy score: ', accuracy_score(y_test, pred))\n",
        "\n",
        "print('Index\\tPredicted\\t\\tActual')\n",
        "for i in range(len(pred)):\n",
        "  if pred[i] != y_test[i]:\n",
        "    print(i, '\\t', pred[i], '\\t', y_test[i], ' ****')\n",
        "\n",
        "DataToPredict = np.array([[5.2, 3.5, 1.4, 0.2], [5.7, 2.9, 3.6, 1.3], [5.8, 3.0, 5.1, 1.8]])\n",
        "pred = knn.predict(DataToPredict)\n",
        "\n",
        "print(\"\\nPredictes results\")\n",
        "for i in range(len(pred)):\n",
        "  print('\\t', DataToPredict[i], '\\t', pred[i])"
      ],
      "execution_count": null,
      "outputs": [
        {
          "output_type": "stream",
          "name": "stdout",
          "text": [
            "\n",
            "Model accuracy score:  0.9555555555555556\n",
            "Index\tPredicted\t\tActual\n",
            "6 \t Iris-virginica \t Iris-versicolor  ****\n",
            "9 \t Iris-versicolor \t Iris-virginica  ****\n",
            "\n",
            "Predictes results\n",
            "\t [5.2 3.5 1.4 0.2] \t Iris-setosa\n",
            "\t [5.7 2.9 3.6 1.3] \t Iris-versicolor\n",
            "\t [5.8 3.  5.1 1.8] \t Iris-virginica\n"
          ]
        }
      ]
    },
    {
      "cell_type": "code",
      "metadata": {
        "id": "Z7x5gtvFrAb2"
      },
      "source": [
        ""
      ],
      "execution_count": null,
      "outputs": []
    },
    {
      "cell_type": "code",
      "metadata": {
        "id": "LFPQ0novrYeg"
      },
      "source": [
        ""
      ],
      "execution_count": null,
      "outputs": []
    },
    {
      "cell_type": "code",
      "metadata": {
        "id": "oYHLxd4crYnV"
      },
      "source": [
        "### CLASSIFICATION USING A NEURAL NETWORK, MLP CLASSIFIER WITH PYTHON\n",
        "# Neural networks are at the heart of machine learning and are used for a wide range of applications, including classification. \n",
        "# MLPClassifer function, so named because it uses multilayer perceptrons (MLPs) to accomplish its processing, in this case classifications. \n",
        "# In a neural network, a perceptron is a supervised learning algorithm that uses a linear function to convert inputs into outputs.\n",
        "# The inputs to a perceptron can be weighted and biased. A perceptron uses a linear function, however, many real-world problems are not linear in nature. \n",
        "# As such, the problems must be decomposed into a series of linear components and additional layers of perceptrons must be used, creating a MLP solution.\n",
        "\n",
        "import pandas as pd\n",
        "import numpy as np\n",
        "from sklearn.model_selection import train_test_split\n",
        "from sklearn.metrics import accuracy_score\n",
        "from sklearn.neural_network import MLPClassifier\n",
        "\n",
        "names = ['sepal_length', 'sepal_width', 'petal_length', 'petal_width', 'class']\n",
        "\n",
        "df = pd.read_csv('Iris.data.csv', header = None, names=names)\n",
        "\n",
        "X = np.array(df.iloc[:, 0:4])\n",
        "y = np.array(df['class'])\n",
        "\n",
        "#split the data into train and test sets\n",
        "X_train, X_test, y_train, y_test = train_test_split(X, y, test_size=0.30) "
      ],
      "execution_count": null,
      "outputs": []
    },
    {
      "cell_type": "code",
      "metadata": {
        "id": "9WzOhLGZwcrD"
      },
      "source": [
        "model = MLPClassifier(max_iter=1000)\n",
        "model.fit(X_train, y_train)\n",
        "pred = model.predict(X_test)"
      ],
      "execution_count": null,
      "outputs": []
    },
    {
      "cell_type": "code",
      "metadata": {
        "colab": {
          "base_uri": "https://localhost:8080/"
        },
        "id": "YHv9Dht7wx5X",
        "outputId": "7e8f4152-e1d3-4c8d-911d-dad4bbf43204"
      },
      "source": [
        "print('Accuracy: ', accuracy_score(y_test, pred))\n",
        "\n",
        "print('Index\\tPredicted\\t\\tActual')\n",
        "for i in range(len(pred)):\n",
        "  if pred[i] != y_test[i]:\n",
        "    print(i, '\\t', pred[i], '\\t', y_test[i], ' ****')\n",
        "\n",
        "DataToPredict = np.array([[5.2, 3.5, 1.4, 0.2], [5.7, 2.9, 3.6, 1.3], [5.8, 3.0, 5.1, 1.8]])\n",
        "pred = knn.predict(DataToPredict)\n",
        "\n",
        "print(\"\\nPredictes results\")\n",
        "for i in range(len(pred)):\n",
        "  print('\\t', DataToPredict[i], '\\t', pred[i])"
      ],
      "execution_count": null,
      "outputs": [
        {
          "output_type": "stream",
          "name": "stdout",
          "text": [
            "Accuracy:  0.9777777777777777\n",
            "Index\tPredicted\t\tActual\n",
            "36 \t Iris-virginica \t Iris-versicolor  ****\n",
            "\n",
            "Predictes results\n",
            "\t [5.2 3.5 1.4 0.2] \t Iris-setosa\n",
            "\t [5.7 2.9 3.6 1.3] \t Iris-versicolor\n",
            "\t [5.8 3.  5.1 1.8] \t Iris-virginica\n"
          ]
        }
      ]
    },
    {
      "cell_type": "code",
      "metadata": {
        "id": "VQKE9kyxw2Cv"
      },
      "source": [
        ""
      ],
      "execution_count": null,
      "outputs": []
    },
    {
      "cell_type": "code",
      "metadata": {
        "id": "UnMfFIStxmfu"
      },
      "source": [
        ""
      ],
      "execution_count": null,
      "outputs": []
    },
    {
      "cell_type": "code",
      "metadata": {
        "id": "KoxVFAkRxmob"
      },
      "source": [
        "### SUPPORT VECTOR MACHINE CLASSIFYING (SVM) OR SUPPORT VECTOR CLASSIFIER (SVC)\n",
        "# The support vector machine (SVM), also called an SVC (support vector classifier) classifies data by separating values with a line called a hyperplane.\n",
        "# Classes that you can separate using a line are said to be linearly separable. As you can see, there are many lines you can use to divide the classes.\n",
        "# The goal of SVC is to find the line that creates the widest separation between the classes. \n",
        "#To calculate the best separation line, the algorithm uses two additional lines called support vectors.\n",
        "\n",
        "import pandas as pd\n",
        "import numpy as np\n",
        "from sklearn.model_selection import train_test_split\n",
        "from sklearn.metrics import accuracy_score\n",
        "from sklearn.svm import SVC\n",
        "\n",
        "names = ['sepal_length', 'sepal_width', 'petal_length', 'petal_width', 'class']\n",
        "\n",
        "df = pd.read_csv('Iris.data.csv', header = None, names=names)\n",
        "\n",
        "X = np.array(df.iloc[:, 0:4])\n",
        "y = np.array(df['class'])\n",
        "\n",
        "#split the data into train and test sets\n",
        "X_train, X_test, y_train, y_test = train_test_split(X, y, test_size=0.30) "
      ],
      "execution_count": null,
      "outputs": []
    },
    {
      "cell_type": "code",
      "metadata": {
        "id": "3PFHZGjQycFn"
      },
      "source": [
        "model = SVC(gamma = 'auto').fit(X_train, y_train)\n",
        "pred = model.predict(X_test)"
      ],
      "execution_count": null,
      "outputs": []
    },
    {
      "cell_type": "code",
      "metadata": {
        "colab": {
          "base_uri": "https://localhost:8080/"
        },
        "id": "2nUsX1yjyu87",
        "outputId": "6bb1cda1-db66-4d70-8499-4a7641127498"
      },
      "source": [
        "print('\\nModel accuracy score: ', accuracy_score(y_test, pred))\n",
        "\n",
        "print('Index\\tPredicted\\t\\tActual')\n",
        "for i in range(len(pred)):\n",
        "  if pred[i] != y_test[i]:\n",
        "    print(i, '\\t', pred[i], '\\t', y_test[i], ' ****')\n",
        "\n",
        "DataToPredict = np.array([[5.2, 3.5, 1.4, 0.2], [5.7, 2.9, 3.6, 1.3], [5.8, 3.0, 5.1, 1.8]])\n",
        "pred = knn.predict(DataToPredict)\n",
        "\n",
        "print(\"\\nPredictes results\")\n",
        "for i in range(len(pred)):\n",
        "  print('\\t', DataToPredict[i], '\\t', pred[i])"
      ],
      "execution_count": null,
      "outputs": [
        {
          "output_type": "stream",
          "name": "stdout",
          "text": [
            "\n",
            "Model accuracy score:  0.9333333333333333\n",
            "Index\tPredicted\t\tActual\n",
            "19 \t Iris-versicolor \t Iris-virginica  ****\n",
            "25 \t Iris-virginica \t Iris-versicolor  ****\n",
            "27 \t Iris-virginica \t Iris-versicolor  ****\n",
            "\n",
            "Predictes results\n",
            "\t [5.2 3.5 1.4 0.2] \t Iris-setosa\n",
            "\t [5.7 2.9 3.6 1.3] \t Iris-versicolor\n",
            "\t [5.8 3.  5.1 1.8] \t Iris-virginica\n"
          ]
        }
      ]
    },
    {
      "cell_type": "code",
      "metadata": {
        "id": "c_D01TDmy3l-"
      },
      "source": [
        ""
      ],
      "execution_count": null,
      "outputs": []
    }
  ]
}