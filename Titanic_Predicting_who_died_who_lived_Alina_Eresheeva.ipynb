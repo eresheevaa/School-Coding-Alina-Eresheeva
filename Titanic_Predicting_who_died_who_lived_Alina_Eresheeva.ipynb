{
  "nbformat": 4,
  "nbformat_minor": 0,
  "metadata": {
    "colab": {
      "name": "Titanic Predicting who died who lived Alina Eresheeva.ipynb",
      "provenance": [],
      "authorship_tag": "ABX9TyNUQJxXmxQzBx0GvcRWg88i",
      "include_colab_link": true
    },
    "kernelspec": {
      "name": "python3",
      "display_name": "Python 3"
    },
    "language_info": {
      "name": "python"
    }
  },
  "cells": [
    {
      "cell_type": "markdown",
      "metadata": {
        "id": "view-in-github",
        "colab_type": "text"
      },
      "source": [
        "<a href=\"https://colab.research.google.com/github/eresheevaa/School-Coding-Alina-Eresheeva/blob/main/Titanic_Predicting_who_died_who_lived_Alina_Eresheeva.ipynb\" target=\"_parent\"><img src=\"https://colab.research.google.com/assets/colab-badge.svg\" alt=\"Open In Colab\"/></a>"
      ]
    },
    {
      "cell_type": "code",
      "metadata": {
        "id": "FigGv4ZvO1P1"
      },
      "source": [
        "import pandas as pd\n",
        "import numpy as np\n",
        "from sklearn.model_selection import train_test_split\n",
        "from sklearn.metrics import accuracy_score\n",
        "from sklearn.neural_network import MLPClassifier\n",
        "import sklearn.tree as tree\n",
        "from sklearn.metrics import confusion_matrix\n",
        "from sklearn.ensemble import RandomForestClassifier"
      ],
      "execution_count": 3,
      "outputs": []
    },
    {
      "cell_type": "code",
      "metadata": {
        "colab": {
          "base_uri": "https://localhost:8080/"
        },
        "id": "p03RMpSpO_iJ",
        "outputId": "d9e5601e-9144-44ba-9042-822c08e03d87"
      },
      "source": [
        "names = ['Pclass', 'Sex', 'Age', 'Survived']\n",
        "\n",
        "df = pd.read_csv('/content/TitanicFields.csv', header = None, names = names)\n",
        "X = np.array(df.iloc[:,0:2])\n",
        "Y = np.array(df['Survived'])\n",
        "\n",
        "#Split data into train and test\n",
        "X_train, X_test, Y_train, Y_test = train_test_split(X,Y, test_size = 0.30)\n",
        "\n",
        "model = RandomForestClassifier()\n",
        "model.fit(X_train, Y_train)\n",
        "prediction = model.predict(X_test)\n",
        "\n",
        "print('Accuracy score: ',accuracy_score(Y_test,prediction))\n",
        "print('\\nConfusion Matrix\\n', confusion_matrix(Y_test, prediction))"
      ],
      "execution_count": 7,
      "outputs": [
        {
          "output_type": "stream",
          "name": "stdout",
          "text": [
            "Accuracy score:  0.8535031847133758\n",
            "\n",
            "Confusion Matrix\n",
            " [[172  22]\n",
            " [ 24  96]]\n"
          ]
        }
      ]
    },
    {
      "cell_type": "code",
      "metadata": {
        "id": "48bPme7mQMLa"
      },
      "source": [
        ""
      ],
      "execution_count": null,
      "outputs": []
    }
  ]
}