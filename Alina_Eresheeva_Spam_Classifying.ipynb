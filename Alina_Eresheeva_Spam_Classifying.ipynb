{
  "nbformat": 4,
  "nbformat_minor": 0,
  "metadata": {
    "colab": {
      "name": "Alina Eresheeva Spam Classifying.ipynb",
      "provenance": [],
      "collapsed_sections": [],
      "authorship_tag": "ABX9TyN5R4wXgBXA/kogexdvVvwV",
      "include_colab_link": true
    },
    "kernelspec": {
      "name": "python3",
      "display_name": "Python 3"
    },
    "language_info": {
      "name": "python"
    }
  },
  "cells": [
    {
      "cell_type": "markdown",
      "metadata": {
        "id": "view-in-github",
        "colab_type": "text"
      },
      "source": [
        "<a href=\"https://colab.research.google.com/github/eresheevaa/School-Coding-Alina-Eresheeva/blob/main/Alina_Eresheeva_Spam_Classifying.ipynb\" target=\"_parent\"><img src=\"https://colab.research.google.com/assets/colab-badge.svg\" alt=\"Open In Colab\"/></a>"
      ]
    },
    {
      "cell_type": "code",
      "metadata": {
        "id": "C04FiqVQeZIL"
      },
      "source": [
        "import pandas as pd\n",
        "import numpy as np\n",
        "from sklearn.model_selection import train_test_split\n",
        "from sklearn.metrics import accuracy_score\n",
        "from sklearn.neighbors import KNeighborsClassifier\n",
        "from sklearn.metrics import confusion_matrix\n",
        "df=pd.read_csv(\"Spam.csv\", header = None)\n",
        "x = np.array(df.iloc[:,0:56])\n",
        "y = np.array(df[57])\n",
        "#split dataset into training and tetsing sub-datasets\n",
        "\n",
        "x_train, x_test, y_train, y_test = train_test_split(x, y, test_size = 0.35)"
      ],
      "execution_count": null,
      "outputs": []
    },
    {
      "cell_type": "code",
      "metadata": {
        "colab": {
          "base_uri": "https://localhost:8080/"
        },
        "id": "OFy8a5Zqi9Cf",
        "outputId": "7d687791-bd15-4630-a804-89653a595d8d"
      },
      "source": [
        "knn = KNeighborsClassifier(n_neighbors=4)\n",
        "knn.fit(x_train, y_train)\n",
        "pred=knn.predict(x_test)\n",
        "print(f'Model accuracy score is: ', accuracy_score(y_test,pred))\n",
        "print(f'Confusion Matrix Outcome is: ', confusion_matrix(y_test,pred))"
      ],
      "execution_count": null,
      "outputs": [
        {
          "output_type": "stream",
          "name": "stdout",
          "text": [
            "Model accuracy score is:  0.8820608317815022\n",
            "Confusion Matrix Outcome is:  [[914  57]\n",
            " [133 507]]\n"
          ]
        }
      ]
    },
    {
      "cell_type": "code",
      "metadata": {
        "id": "mDSVepvgk5oT"
      },
      "source": [
        ""
      ],
      "execution_count": null,
      "outputs": []
    }
  ]
}