{
  "nbformat": 4,
  "nbformat_minor": 0,
  "metadata": {
    "colab": {
      "name": "Alina Eresheeva Scaling a Dataset using Python.ipynb",
      "provenance": [],
      "collapsed_sections": [],
      "authorship_tag": "ABX9TyNLRXD0ThuiT9jJOuxr7gB2",
      "include_colab_link": true
    },
    "kernelspec": {
      "name": "python3",
      "display_name": "Python 3"
    },
    "language_info": {
      "name": "python"
    }
  },
  "cells": [
    {
      "cell_type": "markdown",
      "metadata": {
        "id": "view-in-github",
        "colab_type": "text"
      },
      "source": [
        "<a href=\"https://colab.research.google.com/github/eresheevaa/School-Coding-Alina-Eresheeva/blob/main/Alina_Eresheeva_Scaling_a_Dataset_using_Python.ipynb\" target=\"_parent\"><img src=\"https://colab.research.google.com/assets/colab-badge.svg\" alt=\"Open In Colab\"/></a>"
      ]
    },
    {
      "cell_type": "code",
      "metadata": {
        "colab": {
          "base_uri": "https://localhost:8080/"
        },
        "id": "LCl92Yw7olYk",
        "outputId": "83ec4a58-1ae2-4725-fafe-80eb01a9d877"
      },
      "source": [
        "import pandas as pd\n",
        "import numpy as np\n",
        "from pandas import DataFrame\n",
        "from sklearn.preprocessing import StandardScaler\n",
        "\n",
        "Data = {\n",
        "    'x': [1,2,3,4,5,6,7,8,9],\n",
        "    'y': [10,20,30,40,50,60,70,80,90]\n",
        "}\n",
        "\n",
        "df = DataFrame(Data,columns=['x','y'])\n",
        "\n",
        "print('Original Dataset')\n",
        "print(df)"
      ],
      "execution_count": 3,
      "outputs": [
        {
          "output_type": "stream",
          "name": "stdout",
          "text": [
            "Original Dataset\n",
            "   x   y\n",
            "0  1  10\n",
            "1  2  20\n",
            "2  3  30\n",
            "3  4  40\n",
            "4  5  50\n",
            "5  6  60\n",
            "6  7  70\n",
            "7  8  80\n",
            "8  9  90\n"
          ]
        }
      ]
    },
    {
      "cell_type": "code",
      "metadata": {
        "colab": {
          "base_uri": "https://localhost:8080/"
        },
        "id": "X5V79rF5pM_O",
        "outputId": "7b200d58-3f63-4c66-bc85-048412fb98fe"
      },
      "source": [
        "sc = StandardScaler()\n",
        "scaled = sc.fit_transform(df)\n",
        "\n",
        "print('Scaled Dataset')\n",
        "print(scaled)\n",
        "print('Mean:', scaled.mean())\n",
        "print('Standard deviation:', scaled.std())"
      ],
      "execution_count": 4,
      "outputs": [
        {
          "output_type": "stream",
          "name": "stdout",
          "text": [
            "Scaled Dataset\n",
            "[[-1.54919334 -1.54919334]\n",
            " [-1.161895   -1.161895  ]\n",
            " [-0.77459667 -0.77459667]\n",
            " [-0.38729833 -0.38729833]\n",
            " [ 0.          0.        ]\n",
            " [ 0.38729833  0.38729833]\n",
            " [ 0.77459667  0.77459667]\n",
            " [ 1.161895    1.161895  ]\n",
            " [ 1.54919334  1.54919334]]\n",
            "Mean: -2.4671622769447922e-17\n",
            "Standard deviation: 1.0\n"
          ]
        }
      ]
    },
    {
      "cell_type": "code",
      "metadata": {
        "id": "5uBD2wVeqeRD"
      },
      "source": [
        ""
      ],
      "execution_count": null,
      "outputs": []
    }
  ]
}