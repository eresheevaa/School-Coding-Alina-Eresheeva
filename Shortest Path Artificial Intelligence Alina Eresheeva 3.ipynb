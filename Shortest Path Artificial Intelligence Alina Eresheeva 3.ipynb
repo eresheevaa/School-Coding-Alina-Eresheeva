{
 "cells": [
  {
   "cell_type": "code",
   "execution_count": 1,
   "id": "667ecaff",
   "metadata": {},
   "outputs": [
    {
     "name": "stdout",
     "output_type": "stream",
     "text": [
      "defaultdict(<class 'list'>, {'A': ['E', 'I'], 'E': ['A', 'D'], 'F': ['G', 'D'], 'G': ['F', 'H'], 'D': ['B', 'E', 'F'], 'B': ['D', 'H'], 'H': ['I', 'G', 'B'], 'I': ['H', 'A', 'J'], 'J': ['I']})\n"
     ]
    }
   ],
   "source": [
    "# Python3 implementation to build a\n",
    "# graph using Dictonaries\n",
    "\n",
    "from collections import defaultdict\n",
    "\n",
    "# Function to build the graph\n",
    "def build_graph():\n",
    "\tedges = [\n",
    "\t\t[\"A\", \"E\"], [\"F\", \"G\"],\n",
    "\t\t[\"D\", \"B\"], [\"D\", \"E\"],\n",
    "\t\t[\"H\", \"I\"], [\"G\", \"H\"],\n",
    "\t\t[\"A\", \"I\"], [\"I\", \"J\"],\n",
    "        [\"B\", \"H\"], [\"D\", \"F\"]\n",
    "\t]\n",
    "\tgraph = defaultdict(list)\n",
    "\t\n",
    "\t# Loop to iterate over every\n",
    "\t# edge of the graph\n",
    "\tfor edge in edges:\n",
    "\t\ta, b = edge[0], edge[1]\n",
    "\t\t\n",
    "\t\t# Creating the graph\n",
    "\t\t# as adjacency list\n",
    "\t\tgraph[a].append(b)\n",
    "\t\tgraph[b].append(a)\n",
    "\treturn graph\n",
    "\n",
    "if __name__ == \"__main__\":\n",
    "\tgraph = build_graph()\n",
    "\t\n",
    "\tprint(graph)\n"
   ]
  },
  {
   "cell_type": "code",
   "execution_count": 5,
   "id": "d299acec",
   "metadata": {},
   "outputs": [
    {
     "name": "stdout",
     "output_type": "stream",
     "text": [
      "Shortest path =  A I J\n"
     ]
    }
   ],
   "source": [
    "# Python implementation to find the\n",
    "# shortest path in the graph using\n",
    "# dictionaries\n",
    "\n",
    "# Function to find the shortest\n",
    "# path between two nodes of a graph\n",
    "def BFS_SP(graph, start, goal):\n",
    "\texplored = []\n",
    "\t\n",
    "\t# Queue for traversing the\n",
    "\t# graph in the BFS\n",
    "\tqueue = [[start]]\n",
    "\t\n",
    "\t# If the desired node is\n",
    "\t# reached\n",
    "\tif start == goal:\n",
    "\t\tprint(\"Same Node\")\n",
    "\t\treturn\n",
    "\t\n",
    "\t# Loop to traverse the graph\n",
    "\t# with the help of the queue\n",
    "\twhile queue:\n",
    "\t\tpath = queue.pop(0)\n",
    "\t\tnode = path[-1]\n",
    "\t\t\n",
    "\t\t# Condition to check if the\n",
    "\t\t# current node is not visited\n",
    "\t\tif node not in explored:\n",
    "\t\t\tneighbours = graph[node]\n",
    "\t\t\t\n",
    "\t\t\t# Loop to iterate over the\n",
    "\t\t\t# neighbours of the node\n",
    "\t\t\tfor neighbour in neighbours:\n",
    "\t\t\t\tnew_path = list(path)\n",
    "\t\t\t\tnew_path.append(neighbour)\n",
    "\t\t\t\tqueue.append(new_path)\n",
    "\t\t\t\t\n",
    "\t\t\t\t# Condition to check if the\n",
    "\t\t\t\t# neighbour node is the goal\n",
    "\t\t\t\tif neighbour == goal:\n",
    "\t\t\t\t\tprint(\"Shortest path = \", *new_path)\n",
    "\t\t\t\t\treturn\n",
    "\t\t\texplored.append(node)\n",
    "\n",
    "\t# Condition when the nodes\n",
    "\t# are not connected\n",
    "\tprint(\"So sorry, but a connecting\"\\\n",
    "\t\t\t\t\"path doesn't exist :(\")\n",
    "\treturn\n",
    "\n",
    "# Driver Code\n",
    "if __name__ == \"__main__\":\n",
    "\t\n",
    "\t# Graph using dictionaries\n",
    "\tgraph = {'A': ['E', 'I'],\n",
    "\t\t\t'B': ['H', 'D'],\n",
    "\t\t\t'D': ['B', 'E', 'F'],\n",
    "\t\t\t'E': ['A', 'D'],\n",
    "\t\t\t'F': ['G', 'D'],\n",
    "\t\t\t'G': ['F', 'H'],\n",
    "            'H': ['I', 'G', 'B'],\n",
    "            'I': ['H', 'A', 'J'],\n",
    "            'J': ['I']\n",
    "            }\n",
    "\t\n",
    "\t# Function Call\n",
    "\tBFS_SP(graph, 'A', 'J')\n"
   ]
  },
  {
   "cell_type": "code",
   "execution_count": null,
   "id": "c4810744",
   "metadata": {},
   "outputs": [],
   "source": []
  }
 ],
 "metadata": {
  "kernelspec": {
   "display_name": "Python 3",
   "language": "python",
   "name": "python3"
  },
  "language_info": {
   "codemirror_mode": {
    "name": "ipython",
    "version": 3
   },
   "file_extension": ".py",
   "mimetype": "text/x-python",
   "name": "python",
   "nbconvert_exporter": "python",
   "pygments_lexer": "ipython3",
   "version": "3.8.8"
  }
 },
 "nbformat": 4,
 "nbformat_minor": 5
}
